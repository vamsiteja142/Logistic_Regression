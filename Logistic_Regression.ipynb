{
  "nbformat": 4,
  "nbformat_minor": 0,
  "metadata": {
    "colab": {
      "name": "Logistic_Regression.ipynb",
      "provenance": [],
      "authorship_tag": "ABX9TyMlbFdLvYHdUHUiaivm+zKt",
      "include_colab_link": true
    },
    "kernelspec": {
      "name": "python3",
      "display_name": "Python 3"
    }
  },
  "cells": [
    {
      "cell_type": "markdown",
      "metadata": {
        "id": "view-in-github",
        "colab_type": "text"
      },
      "source": [
        "<a href=\"https://colab.research.google.com/github/vamsiteja142/Logistic_Regression/blob/master/Logistic_Regression.ipynb\" target=\"_parent\"><img src=\"https://colab.research.google.com/assets/colab-badge.svg\" alt=\"Open In Colab\"/></a>"
      ]
    },
    {
      "cell_type": "code",
      "metadata": {
        "id": "lLf9UW5E9iOb",
        "colab_type": "code",
        "colab": {}
      },
      "source": [
        "import pandas as pd\n",
        "import numpy as np \n"
      ],
      "execution_count": 0,
      "outputs": []
    },
    {
      "cell_type": "code",
      "metadata": {
        "id": "wWHRpJv89usB",
        "colab_type": "code",
        "colab": {
          "resources": {
            "http://localhost:8080/nbextensions/google.colab/files.js": {
              "data": "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",
              "ok": true,
              "headers": [
                [
                  "content-type",
                  "application/javascript"
                ]
              ],
              "status": 200,
              "status_text": ""
            }
          },
          "base_uri": "https://localhost:8080/",
          "height": 40
        },
        "outputId": "87a740c9-9059-4021-ea42-1f339c315ff2"
      },
      "source": [
        "from google.colab import files\n",
        "upload = files.upload()"
      ],
      "execution_count": 31,
      "outputs": [
        {
          "output_type": "display_data",
          "data": {
            "text/html": [
              "\n",
              "     <input type=\"file\" id=\"files-568ce5f7-e6eb-461f-86ee-6d645d94273c\" name=\"files[]\" multiple disabled />\n",
              "     <output id=\"result-568ce5f7-e6eb-461f-86ee-6d645d94273c\">\n",
              "      Upload widget is only available when the cell has been executed in the\n",
              "      current browser session. Please rerun this cell to enable.\n",
              "      </output>\n",
              "      <script src=\"/nbextensions/google.colab/files.js\"></script> "
            ],
            "text/plain": [
              "<IPython.core.display.HTML object>"
            ]
          },
          "metadata": {
            "tags": []
          }
        }
      ]
    },
    {
      "cell_type": "code",
      "metadata": {
        "id": "ZtC9LKPF91_M",
        "colab_type": "code",
        "colab": {}
      },
      "source": [
        "dataset = pd.read_csv('iris.csv', names = ['sepal length', 'sepal width', 'petal length', 'petal width', 'species'])"
      ],
      "execution_count": 0,
      "outputs": []
    },
    {
      "cell_type": "code",
      "metadata": {
        "id": "M4KVAPZg-C4a",
        "colab_type": "code",
        "colab": {
          "base_uri": "https://localhost:8080/",
          "height": 204
        },
        "outputId": "9a0d7094-c6a5-47c5-a9a4-1fa67ad2d2f9"
      },
      "source": [
        "\n",
        "dataset.head()"
      ],
      "execution_count": 33,
      "outputs": [
        {
          "output_type": "execute_result",
          "data": {
            "text/html": [
              "<div>\n",
              "<style scoped>\n",
              "    .dataframe tbody tr th:only-of-type {\n",
              "        vertical-align: middle;\n",
              "    }\n",
              "\n",
              "    .dataframe tbody tr th {\n",
              "        vertical-align: top;\n",
              "    }\n",
              "\n",
              "    .dataframe thead th {\n",
              "        text-align: right;\n",
              "    }\n",
              "</style>\n",
              "<table border=\"1\" class=\"dataframe\">\n",
              "  <thead>\n",
              "    <tr style=\"text-align: right;\">\n",
              "      <th></th>\n",
              "      <th>sepal length</th>\n",
              "      <th>sepal width</th>\n",
              "      <th>petal length</th>\n",
              "      <th>petal width</th>\n",
              "      <th>species</th>\n",
              "    </tr>\n",
              "  </thead>\n",
              "  <tbody>\n",
              "    <tr>\n",
              "      <th>0</th>\n",
              "      <td>5.1</td>\n",
              "      <td>3.5</td>\n",
              "      <td>1.4</td>\n",
              "      <td>0.2</td>\n",
              "      <td>Iris-setosa</td>\n",
              "    </tr>\n",
              "    <tr>\n",
              "      <th>1</th>\n",
              "      <td>4.9</td>\n",
              "      <td>3.0</td>\n",
              "      <td>1.4</td>\n",
              "      <td>0.2</td>\n",
              "      <td>Iris-setosa</td>\n",
              "    </tr>\n",
              "    <tr>\n",
              "      <th>2</th>\n",
              "      <td>4.7</td>\n",
              "      <td>3.2</td>\n",
              "      <td>1.3</td>\n",
              "      <td>0.2</td>\n",
              "      <td>Iris-setosa</td>\n",
              "    </tr>\n",
              "    <tr>\n",
              "      <th>3</th>\n",
              "      <td>4.6</td>\n",
              "      <td>3.1</td>\n",
              "      <td>1.5</td>\n",
              "      <td>0.2</td>\n",
              "      <td>Iris-setosa</td>\n",
              "    </tr>\n",
              "    <tr>\n",
              "      <th>4</th>\n",
              "      <td>5.0</td>\n",
              "      <td>3.6</td>\n",
              "      <td>1.4</td>\n",
              "      <td>0.2</td>\n",
              "      <td>Iris-setosa</td>\n",
              "    </tr>\n",
              "  </tbody>\n",
              "</table>\n",
              "</div>"
            ],
            "text/plain": [
              "   sepal length  sepal width  petal length  petal width      species\n",
              "0           5.1          3.5           1.4          0.2  Iris-setosa\n",
              "1           4.9          3.0           1.4          0.2  Iris-setosa\n",
              "2           4.7          3.2           1.3          0.2  Iris-setosa\n",
              "3           4.6          3.1           1.5          0.2  Iris-setosa\n",
              "4           5.0          3.6           1.4          0.2  Iris-setosa"
            ]
          },
          "metadata": {
            "tags": []
          },
          "execution_count": 33
        }
      ]
    },
    {
      "cell_type": "code",
      "metadata": {
        "id": "Vreaeyf0-EqB",
        "colab_type": "code",
        "colab": {}
      },
      "source": [
        "from sklearn.preprocessing import LabelEncoder"
      ],
      "execution_count": 0,
      "outputs": []
    },
    {
      "cell_type": "code",
      "metadata": {
        "id": "gWpp2gEGAIm2",
        "colab_type": "code",
        "colab": {}
      },
      "source": [
        "labelencoder = LabelEncoder()\n",
        "dataset['species'] = labelencoder.fit_transform(dataset['species'])"
      ],
      "execution_count": 0,
      "outputs": []
    },
    {
      "cell_type": "code",
      "metadata": {
        "id": "oiVP4zMTAU6l",
        "colab_type": "code",
        "colab": {
          "base_uri": "https://localhost:8080/",
          "height": 34
        },
        "outputId": "9776fbdb-c763-48cc-96ce-429fc831f49e"
      },
      "source": [
        "dataset.species.unique()"
      ],
      "execution_count": 36,
      "outputs": [
        {
          "output_type": "execute_result",
          "data": {
            "text/plain": [
              "array([0, 1, 2])"
            ]
          },
          "metadata": {
            "tags": []
          },
          "execution_count": 36
        }
      ]
    },
    {
      "cell_type": "code",
      "metadata": {
        "id": "tRyRW2SzAdGt",
        "colab_type": "code",
        "colab": {
          "base_uri": "https://localhost:8080/",
          "height": 119
        },
        "outputId": "14a6a5b7-8fa3-4c23-e1ba-ef6c9a608c16"
      },
      "source": [
        "print(dataset.head())"
      ],
      "execution_count": 37,
      "outputs": [
        {
          "output_type": "stream",
          "text": [
            "   sepal length  sepal width  petal length  petal width  species\n",
            "0           5.1          3.5           1.4          0.2        0\n",
            "1           4.9          3.0           1.4          0.2        0\n",
            "2           4.7          3.2           1.3          0.2        0\n",
            "3           4.6          3.1           1.5          0.2        0\n",
            "4           5.0          3.6           1.4          0.2        0\n"
          ],
          "name": "stdout"
        }
      ]
    },
    {
      "cell_type": "code",
      "metadata": {
        "id": "fJWKBAbOAm6d",
        "colab_type": "code",
        "colab": {}
      },
      "source": [
        "x = dataset.iloc[:,:-1]\n",
        "y = dataset.iloc[:,-1]"
      ],
      "execution_count": 0,
      "outputs": []
    },
    {
      "cell_type": "code",
      "metadata": {
        "id": "1T1Lcza9AvbU",
        "colab_type": "code",
        "colab": {}
      },
      "source": [
        "from sklearn.model_selection import train_test_split"
      ],
      "execution_count": 0,
      "outputs": []
    },
    {
      "cell_type": "code",
      "metadata": {
        "id": "_YNMFrP-A1ll",
        "colab_type": "code",
        "colab": {}
      },
      "source": [
        "x_train, x_test, y_train, y_test = train_test_split(x, y, test_size = 0.2, random_state = 0)"
      ],
      "execution_count": 0,
      "outputs": []
    },
    {
      "cell_type": "code",
      "metadata": {
        "id": "kCgDVruKBCXa",
        "colab_type": "code",
        "colab": {
          "base_uri": "https://localhost:8080/",
          "height": 1000
        },
        "outputId": "cfa832f2-9036-43b0-a7f4-6afcd4bda49a"
      },
      "source": [
        "print(x_train),\n",
        "print(x_test ),\n",
        "print(y_train )\n",
        "print(y_test )"
      ],
      "execution_count": 41,
      "outputs": [
        {
          "output_type": "stream",
          "text": [
            "     sepal length  sepal width  petal length  petal width\n",
            "137           6.4          3.1           5.5          1.8\n",
            "84            5.4          3.0           4.5          1.5\n",
            "27            5.2          3.5           1.5          0.2\n",
            "127           6.1          3.0           4.9          1.8\n",
            "132           6.4          2.8           5.6          2.2\n",
            "..            ...          ...           ...          ...\n",
            "9             4.9          3.1           1.5          0.1\n",
            "103           6.3          2.9           5.6          1.8\n",
            "67            5.8          2.7           4.1          1.0\n",
            "117           7.7          3.8           6.7          2.2\n",
            "47            4.6          3.2           1.4          0.2\n",
            "\n",
            "[120 rows x 4 columns]\n",
            "     sepal length  sepal width  petal length  petal width\n",
            "114           5.8          2.8           5.1          2.4\n",
            "62            6.0          2.2           4.0          1.0\n",
            "33            5.5          4.2           1.4          0.2\n",
            "107           7.3          2.9           6.3          1.8\n",
            "7             5.0          3.4           1.5          0.2\n",
            "100           6.3          3.3           6.0          2.5\n",
            "40            5.0          3.5           1.3          0.3\n",
            "86            6.7          3.1           4.7          1.5\n",
            "76            6.8          2.8           4.8          1.4\n",
            "71            6.1          2.8           4.0          1.3\n",
            "134           6.1          2.6           5.6          1.4\n",
            "51            6.4          3.2           4.5          1.5\n",
            "73            6.1          2.8           4.7          1.2\n",
            "54            6.5          2.8           4.6          1.5\n",
            "63            6.1          2.9           4.7          1.4\n",
            "37            4.9          3.1           1.5          0.1\n",
            "78            6.0          2.9           4.5          1.5\n",
            "90            5.5          2.6           4.4          1.2\n",
            "45            4.8          3.0           1.4          0.3\n",
            "16            5.4          3.9           1.3          0.4\n",
            "121           5.6          2.8           4.9          2.0\n",
            "66            5.6          3.0           4.5          1.5\n",
            "24            4.8          3.4           1.9          0.2\n",
            "8             4.4          2.9           1.4          0.2\n",
            "126           6.2          2.8           4.8          1.8\n",
            "22            4.6          3.6           1.0          0.2\n",
            "44            5.1          3.8           1.9          0.4\n",
            "97            6.2          2.9           4.3          1.3\n",
            "93            5.0          2.3           3.3          1.0\n",
            "26            5.0          3.4           1.6          0.4\n",
            "137    2\n",
            "84     1\n",
            "27     0\n",
            "127    2\n",
            "132    2\n",
            "      ..\n",
            "9      0\n",
            "103    2\n",
            "67     1\n",
            "117    2\n",
            "47     0\n",
            "Name: species, Length: 120, dtype: int64\n",
            "114    2\n",
            "62     1\n",
            "33     0\n",
            "107    2\n",
            "7      0\n",
            "100    2\n",
            "40     0\n",
            "86     1\n",
            "76     1\n",
            "71     1\n",
            "134    2\n",
            "51     1\n",
            "73     1\n",
            "54     1\n",
            "63     1\n",
            "37     0\n",
            "78     1\n",
            "90     1\n",
            "45     0\n",
            "16     0\n",
            "121    2\n",
            "66     1\n",
            "24     0\n",
            "8      0\n",
            "126    2\n",
            "22     0\n",
            "44     0\n",
            "97     1\n",
            "93     1\n",
            "26     0\n",
            "Name: species, dtype: int64\n"
          ],
          "name": "stdout"
        }
      ]
    },
    {
      "cell_type": "code",
      "metadata": {
        "id": "ls7773zLBPe6",
        "colab_type": "code",
        "colab": {}
      },
      "source": [
        "from sklearn.preprocessing import StandardScaler\n",
        "sc = StandardScaler()\n",
        "x_train = sc.fit_transform(x_train)\n",
        "x_test = sc.fit_transform(x_test)"
      ],
      "execution_count": 0,
      "outputs": []
    },
    {
      "cell_type": "code",
      "metadata": {
        "id": "ayYRqLO8B9pe",
        "colab_type": "code",
        "colab": {
          "base_uri": "https://localhost:8080/",
          "height": 1000
        },
        "outputId": "f00857e6-8b1c-41f2-bfa3-89330632cc60"
      },
      "source": [
        "print('x_train data\\n',x_train),\n",
        "print('x_test data \\n',x_test)"
      ],
      "execution_count": 47,
      "outputs": [
        {
          "output_type": "stream",
          "text": [
            "x_train data\n",
            " [[ 0.61303014  0.10850105  0.94751783  0.73603967]\n",
            " [-0.56776627 -0.12400121  0.38491447  0.34808318]\n",
            " [-0.80392556  1.03851009 -1.30289562 -1.3330616 ]\n",
            " [ 0.25879121 -0.12400121  0.60995581  0.73603967]\n",
            " [ 0.61303014 -0.58900572  1.00377816  1.25331499]\n",
            " [-0.80392556 -0.82150798  0.04735245  0.21876435]\n",
            " [-0.21352735  1.73601687 -1.19037495 -1.20374277]\n",
            " [ 0.14071157 -0.82150798  0.72247648  0.47740201]\n",
            " [ 0.02263193 -0.12400121  0.21613346  0.34808318]\n",
            " [-0.09544771 -1.05401024  0.10361279 -0.03987331]\n",
            " [ 1.0853487  -0.12400121  0.94751783  1.12399616]\n",
            " [-1.39432376  0.34100331 -1.41541629 -1.3330616 ]\n",
            " [ 1.20342834  0.10850105  0.72247648  1.38263382]\n",
            " [-1.04008484  1.03851009 -1.24663528 -0.81578628]\n",
            " [-0.56776627  1.50351461 -1.30289562 -1.3330616 ]\n",
            " [-1.04008484 -2.4490238  -0.1776889  -0.29851096]\n",
            " [ 0.73110978 -0.12400121  0.94751783  0.73603967]\n",
            " [ 0.96726906  0.57350557  1.0600385   1.64127148]\n",
            " [ 0.14071157 -1.98401928  0.66621615  0.34808318]\n",
            " [ 0.96726906 -1.2865125   1.11629884  0.73603967]\n",
            " [-0.33160699 -1.2865125   0.04735245 -0.16919214]\n",
            " [ 2.14806547 -0.12400121  1.28507985  1.38263382]\n",
            " [ 0.49495049  0.57350557  0.49743514  0.47740201]\n",
            " [-0.44968663 -1.51901476 -0.00890789 -0.16919214]\n",
            " [ 0.49495049 -0.82150798  0.60995581  0.73603967]\n",
            " [ 0.49495049 -0.58900572  0.72247648  0.34808318]\n",
            " [-1.15816448 -1.2865125   0.38491447  0.60672084]\n",
            " [ 0.49495049 -1.2865125   0.66621615  0.8653585 ]\n",
            " [ 1.32150798  0.34100331  0.49743514  0.21876435]\n",
            " [ 0.73110978 -0.12400121  0.77873682  0.99467733]\n",
            " [ 0.14071157  0.80600783  0.38491447  0.47740201]\n",
            " [-1.27624412  0.10850105 -1.24663528 -1.3330616 ]\n",
            " [-0.09544771 -0.82150798  0.72247648  0.8653585 ]\n",
            " [-0.33160699 -0.82150798  0.21613346  0.08944552]\n",
            " [-0.33160699 -0.35650346 -0.12142856  0.08944552]\n",
            " [-0.44968663 -1.2865125   0.10361279  0.08944552]\n",
            " [ 0.25879121 -0.12400121  0.4411748   0.21876435]\n",
            " [ 1.55766726  0.34100331  1.22881951  0.73603967]\n",
            " [-0.68584591  1.50351461 -1.30289562 -1.3330616 ]\n",
            " [-1.86664232 -0.12400121 -1.52793696 -1.46238043]\n",
            " [ 0.61303014 -0.82150798  0.83499716  0.8653585 ]\n",
            " [-0.21352735 -0.12400121  0.21613346 -0.03987331]\n",
            " [-0.56776627  0.80600783 -1.19037495 -1.3330616 ]\n",
            " [-0.21352735  3.13103043 -1.30289562 -1.07442394]\n",
            " [ 1.20342834  0.10850105  0.60995581  0.34808318]\n",
            " [-1.5124034   0.10850105 -1.30289562 -1.3330616 ]\n",
            " [ 0.02263193 -0.12400121  0.72247648  0.73603967]\n",
            " [-0.9220052  -1.2865125  -0.45899058 -0.16919214]\n",
            " [-1.5124034   0.80600783 -1.35915595 -1.20374277]\n",
            " [ 0.37687085 -1.98401928  0.38491447  0.34808318]\n",
            " [ 1.55766726  1.27101235  1.28507985  1.64127148]\n",
            " [-0.21352735 -0.35650346  0.21613346  0.08944552]\n",
            " [-1.27624412 -0.12400121 -1.35915595 -1.46238043]\n",
            " [ 1.43958762 -0.12400121  1.17255917  1.12399616]\n",
            " [ 1.20342834  0.34100331  1.0600385   1.38263382]\n",
            " [ 0.73110978 -0.12400121  1.11629884  1.25331499]\n",
            " [ 0.61303014 -0.58900572  1.00377816  1.12399616]\n",
            " [-0.9220052   1.73601687 -1.24663528 -1.3330616 ]\n",
            " [-1.27624412  0.80600783 -1.24663528 -1.3330616 ]\n",
            " [ 0.73110978  0.34100331  0.72247648  0.99467733]\n",
            " [ 0.96726906  0.57350557  1.0600385   1.12399616]\n",
            " [-1.63048304 -1.75151702 -1.41541629 -1.20374277]\n",
            " [ 0.37687085  0.80600783  0.89125749  1.38263382]\n",
            " [-1.15816448 -0.12400121 -1.35915595 -1.3330616 ]\n",
            " [-0.21352735 -1.2865125   0.66621615  0.99467733]\n",
            " [ 1.20342834  0.10850105  0.89125749  1.12399616]\n",
            " [-1.74856268  0.34100331 -1.41541629 -1.3330616 ]\n",
            " [-1.04008484  1.27101235 -1.35915595 -1.3330616 ]\n",
            " [ 1.55766726 -0.12400121  1.11629884  0.47740201]\n",
            " [-0.9220052   1.03851009 -1.35915595 -1.20374277]\n",
            " [-1.74856268 -0.12400121 -1.41541629 -1.3330616 ]\n",
            " [-0.56776627  1.96851913 -1.19037495 -1.07442394]\n",
            " [-0.44968663 -1.75151702  0.10361279  0.08944552]\n",
            " [ 1.0853487   0.34100331  1.17255917  1.38263382]\n",
            " [ 2.02998583 -0.12400121  1.56638153  1.12399616]\n",
            " [-0.9220052   1.03851009 -1.35915595 -1.3330616 ]\n",
            " [-1.15816448  0.10850105 -1.30289562 -1.46238043]\n",
            " [-0.80392556  0.80600783 -1.35915595 -1.3330616 ]\n",
            " [-0.21352735 -0.58900572  0.38491447  0.08944552]\n",
            " [ 0.84918942 -0.12400121  0.32865413  0.21876435]\n",
            " [-1.04008484  0.34100331 -1.47167663 -1.3330616 ]\n",
            " [-0.9220052   0.57350557 -1.19037495 -0.94510511]\n",
            " [ 0.61303014 -0.35650346  0.27239379  0.08944552]\n",
            " [-0.56776627  0.80600783 -1.30289562 -1.07442394]\n",
            " [ 2.14806547 -1.05401024  1.73516253  1.38263382]\n",
            " [-1.15816448 -1.51901476 -0.29020957 -0.29851096]\n",
            " [ 2.38422475  1.73601687  1.45386085  0.99467733]\n",
            " [ 0.96726906  0.10850105  0.32865413  0.21876435]\n",
            " [-0.80392556  2.43352365 -1.30289562 -1.46238043]\n",
            " [ 0.14071157 -0.12400121  0.55369548  0.73603967]\n",
            " [-0.09544771  2.20102139 -1.47167663 -1.3330616 ]\n",
            " [ 2.14806547 -0.58900572  1.62264186  0.99467733]\n",
            " [-0.9220052   1.73601687 -1.30289562 -1.20374277]\n",
            " [-1.39432376  0.34100331 -1.24663528 -1.3330616 ]\n",
            " [ 1.79382654 -0.58900572  1.28507985  0.8653585 ]\n",
            " [-1.04008484  0.57350557 -1.35915595 -1.3330616 ]\n",
            " [ 0.49495049  0.80600783  1.00377816  1.51195265]\n",
            " [-0.21352735 -0.58900572  0.15987312  0.08944552]\n",
            " [-0.09544771 -0.82150798  0.04735245 -0.03987331]\n",
            " [-0.21352735 -1.05401024 -0.1776889  -0.29851096]\n",
            " [ 0.61303014  0.34100331  0.83499716  1.38263382]\n",
            " [ 0.96726906 -0.12400121  0.77873682  1.38263382]\n",
            " [ 0.49495049 -1.2865125   0.60995581  0.34808318]\n",
            " [ 0.96726906 -0.12400121  0.66621615  0.60672084]\n",
            " [-1.04008484 -0.12400121 -1.24663528 -1.3330616 ]\n",
            " [-0.44968663 -1.51901476 -0.06516822 -0.29851096]\n",
            " [ 0.96726906  0.10850105  1.00377816  1.51195265]\n",
            " [-0.09544771 -0.82150798  0.72247648  0.8653585 ]\n",
            " [-0.9220052   0.80600783 -1.30289562 -1.3330616 ]\n",
            " [ 0.84918942 -0.35650346  0.4411748   0.08944552]\n",
            " [-0.33160699 -0.12400121  0.15987312  0.08944552]\n",
            " [ 0.02263193  0.34100331  0.55369548  0.73603967]\n",
            " [ 0.49495049 -1.75151702  0.32865413  0.08944552]\n",
            " [-0.44968663  1.03851009 -1.41541629 -1.3330616 ]\n",
            " [-0.9220052   1.50351461 -1.30289562 -1.07442394]\n",
            " [-1.15816448  0.10850105 -1.30289562 -1.46238043]\n",
            " [ 0.49495049 -0.35650346  1.00377816  0.73603967]\n",
            " [-0.09544771 -0.82150798  0.15987312 -0.29851096]\n",
            " [ 2.14806547  1.73601687  1.62264186  1.25331499]\n",
            " [-1.5124034   0.34100331 -1.35915595 -1.3330616 ]]\n",
            "x_test data \n",
            " [[ 0.14956537 -0.58304897  0.94512598  1.91948971]\n",
            " [ 0.43000045 -1.9460206   0.2829358  -0.10102577]\n",
            " [-0.27108724  2.59721815 -1.28224097 -1.25560605]\n",
            " [ 2.25282843 -0.35588703  1.66751526  1.0535545 ]\n",
            " [-0.97217492  0.77992265 -1.22204187 -1.25560605]\n",
            " [ 0.85065306  0.55276071  1.48691794  2.06381224]\n",
            " [-0.97217492  1.00708459 -1.34244008 -1.11128352]\n",
            " [ 1.41152321  0.09843684  0.70432955  0.6205869 ]\n",
            " [ 1.55174074 -0.58304897  0.76452866  0.47626436]\n",
            " [ 0.57021798 -0.58304897  0.2829358   0.33194183]\n",
            " [ 0.57021798 -1.03737285  1.24612151  0.47626436]\n",
            " [ 0.9908706   0.32559878  0.58393134  0.6205869 ]\n",
            " [ 0.57021798 -0.58304897  0.70432955  0.18761929]\n",
            " [ 1.13108813 -0.58304897  0.64413044  0.6205869 ]\n",
            " [ 0.57021798 -0.35588703  0.70432955  0.47626436]\n",
            " [-1.11239246  0.09843684 -1.22204187 -1.39992858]\n",
            " [ 0.43000045 -0.35588703  0.58393134  0.6205869 ]\n",
            " [-0.27108724 -1.03737285  0.52373223  0.18761929]\n",
            " [-1.25261    -0.1287251  -1.28224097 -1.11128352]\n",
            " [-0.41130478  1.91573234 -1.34244008 -0.96696098]\n",
            " [-0.1308697  -0.58304897  0.82472776  1.34219957]\n",
            " [-0.1308697  -0.1287251   0.58393134  0.6205869 ]\n",
            " [-1.25261     0.77992265 -0.98124544 -1.25560605]\n",
            " [-1.81348015 -0.35588703 -1.28224097 -1.25560605]\n",
            " [ 0.71043552 -0.58304897  0.76452866  1.0535545 ]\n",
            " [-1.53304507  1.23424653 -1.5230374  -1.25560605]\n",
            " [-0.83195739  1.6885704  -0.98124544 -0.96696098]\n",
            " [ 0.71043552 -0.35588703  0.46353312  0.33194183]\n",
            " [-0.97217492 -1.71885866 -0.13845795 -0.10102577]\n",
            " [-0.97217492  0.77992265 -1.16184276 -0.96696098]]\n"
          ],
          "name": "stdout"
        }
      ]
    },
    {
      "cell_type": "code",
      "metadata": {
        "id": "mKVCfB3eB_yy",
        "colab_type": "code",
        "colab": {}
      },
      "source": [
        "from sklearn.linear_model import LogisticRegression"
      ],
      "execution_count": 0,
      "outputs": []
    },
    {
      "cell_type": "code",
      "metadata": {
        "id": "VukJisSyE4UO",
        "colab_type": "code",
        "colab": {}
      },
      "source": [
        "classifier = LogisticRegression(random_state = 0)"
      ],
      "execution_count": 0,
      "outputs": []
    },
    {
      "cell_type": "code",
      "metadata": {
        "id": "rzbin_h0FGRy",
        "colab_type": "code",
        "colab": {
          "base_uri": "https://localhost:8080/",
          "height": 102
        },
        "outputId": "efb04a01-8d65-4dd7-d469-1e8e4ce88e94"
      },
      "source": [
        "classifier.fit(x_train, y_train)"
      ],
      "execution_count": 53,
      "outputs": [
        {
          "output_type": "execute_result",
          "data": {
            "text/plain": [
              "LogisticRegression(C=1.0, class_weight=None, dual=False, fit_intercept=True,\n",
              "                   intercept_scaling=1, l1_ratio=None, max_iter=100,\n",
              "                   multi_class='auto', n_jobs=None, penalty='l2',\n",
              "                   random_state=0, solver='lbfgs', tol=0.0001, verbose=0,\n",
              "                   warm_start=False)"
            ]
          },
          "metadata": {
            "tags": []
          },
          "execution_count": 53
        }
      ]
    },
    {
      "cell_type": "code",
      "metadata": {
        "id": "dv6yaxLEFNdw",
        "colab_type": "code",
        "colab": {}
      },
      "source": [
        "y_pred = classifier.predict(x_test)"
      ],
      "execution_count": 0,
      "outputs": []
    },
    {
      "cell_type": "code",
      "metadata": {
        "id": "vp9OlWixFZim",
        "colab_type": "code",
        "colab": {
          "base_uri": "https://localhost:8080/",
          "height": 595
        },
        "outputId": "abac1b3a-902f-4caa-fbd7-c3b8da79a81d"
      },
      "source": [
        "print('y_test \\n',y_test)\n",
        "print('y_pred \\n', y_pred)"
      ],
      "execution_count": 55,
      "outputs": [
        {
          "output_type": "stream",
          "text": [
            "y_test \n",
            " 114    2\n",
            "62     1\n",
            "33     0\n",
            "107    2\n",
            "7      0\n",
            "100    2\n",
            "40     0\n",
            "86     1\n",
            "76     1\n",
            "71     1\n",
            "134    2\n",
            "51     1\n",
            "73     1\n",
            "54     1\n",
            "63     1\n",
            "37     0\n",
            "78     1\n",
            "90     1\n",
            "45     0\n",
            "16     0\n",
            "121    2\n",
            "66     1\n",
            "24     0\n",
            "8      0\n",
            "126    2\n",
            "22     0\n",
            "44     0\n",
            "97     1\n",
            "93     1\n",
            "26     0\n",
            "Name: species, dtype: int64\n",
            "y_pred \n",
            " [2 1 0 2 0 2 0 2 2 1 2 2 1 2 2 0 2 1 0 0 2 2 0 0 2 0 0 1 1 0]\n"
          ],
          "name": "stdout"
        }
      ]
    },
    {
      "cell_type": "code",
      "metadata": {
        "id": "0vmV6aDuFoCv",
        "colab_type": "code",
        "colab": {}
      },
      "source": [
        "from sklearn.metrics import confusion_matrix\n",
        "cm = confusion_matrix(y_test, y_pred)"
      ],
      "execution_count": 0,
      "outputs": []
    },
    {
      "cell_type": "code",
      "metadata": {
        "id": "-M7k3jmxGGMB",
        "colab_type": "code",
        "colab": {
          "base_uri": "https://localhost:8080/",
          "height": 68
        },
        "outputId": "88f68249-054f-4dbc-87d0-19607ba86d19"
      },
      "source": [
        "cm"
      ],
      "execution_count": 59,
      "outputs": [
        {
          "output_type": "execute_result",
          "data": {
            "text/plain": [
              "array([[11,  0,  0],\n",
              "       [ 0,  6,  7],\n",
              "       [ 0,  0,  6]])"
            ]
          },
          "metadata": {
            "tags": []
          },
          "execution_count": 59
        }
      ]
    },
    {
      "cell_type": "code",
      "metadata": {
        "id": "fJ7MOIY6F4ur",
        "colab_type": "code",
        "colab": {}
      },
      "source": [
        "accuracy = cm.diagonal().sum()/cm.sum()"
      ],
      "execution_count": 0,
      "outputs": []
    },
    {
      "cell_type": "code",
      "metadata": {
        "id": "9QKtPGOhGMga",
        "colab_type": "code",
        "colab": {
          "base_uri": "https://localhost:8080/",
          "height": 34
        },
        "outputId": "98b89252-efe2-432c-b778-a20ccdcbd004"
      },
      "source": [
        "print('accuracy :',accuracy)"
      ],
      "execution_count": 61,
      "outputs": [
        {
          "output_type": "stream",
          "text": [
            "accuracy : 0.7666666666666667\n"
          ],
          "name": "stdout"
        }
      ]
    },
    {
      "cell_type": "code",
      "metadata": {
        "id": "asFFqadGGQ6C",
        "colab_type": "code",
        "colab": {}
      },
      "source": [
        ""
      ],
      "execution_count": 0,
      "outputs": []
    }
  ]
}